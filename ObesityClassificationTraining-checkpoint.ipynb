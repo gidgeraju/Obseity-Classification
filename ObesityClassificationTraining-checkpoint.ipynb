{
 "cells": [
  {
   "cell_type": "markdown",
   "id": "7e4ae6f2",
   "metadata": {
    "papermill": {
     "duration": 0.009193,
     "end_time": "2023-07-15T21:58:19.609030",
     "exception": false,
     "start_time": "2023-07-15T21:58:19.599837",
     "status": "completed"
    },
    "tags": []
   },
   "source": [
    "# Obesity Classification"
   ]
  },
  {
   "cell_type": "markdown",
   "id": "785505d2",
   "metadata": {
    "papermill": {
     "duration": 0.008233,
     "end_time": "2023-07-15T21:58:19.643263",
     "exception": false,
     "start_time": "2023-07-15T21:58:19.635030",
     "status": "completed"
    },
    "tags": []
   },
   "source": [
    "### Load necessary packages"
   ]
  },
  {
   "cell_type": "code",
   "execution_count": 1,
   "id": "9ac3d03c",
   "metadata": {
    "execution": {
     "iopub.execute_input": "2023-07-15T21:58:19.663171Z",
     "iopub.status.busy": "2023-07-15T21:58:19.662459Z",
     "iopub.status.idle": "2023-07-15T21:58:21.790127Z",
     "shell.execute_reply": "2023-07-15T21:58:21.788737Z"
    },
    "papermill": {
     "duration": 2.13992,
     "end_time": "2023-07-15T21:58:21.792752",
     "exception": false,
     "start_time": "2023-07-15T21:58:19.652832",
     "status": "completed"
    },
    "tags": []
   },
   "outputs": [],
   "source": [
    "import numpy as np\n",
    "import pandas as pd\n",
    "import matplotlib.pyplot as plt\n",
    "import seaborn as sns\n",
    "from sklearn.model_selection import train_test_split\n",
    "from sklearn.preprocessing import StandardScaler\n",
    "from sklearn.ensemble import RandomForestClassifier\n",
    "from sklearn.metrics import confusion_matrix,classification_report"
   ]
  },
  {
   "cell_type": "markdown",
   "id": "8937750d",
   "metadata": {
    "papermill": {
     "duration": 0.007527,
     "end_time": "2023-07-15T21:58:21.808412",
     "exception": false,
     "start_time": "2023-07-15T21:58:21.800885",
     "status": "completed"
    },
    "tags": []
   },
   "source": [
    "### Load the dataset"
   ]
  },
  {
   "cell_type": "code",
   "execution_count": 2,
   "id": "2453244c",
   "metadata": {
    "execution": {
     "iopub.execute_input": "2023-07-15T21:58:21.826667Z",
     "iopub.status.busy": "2023-07-15T21:58:21.826262Z",
     "iopub.status.idle": "2023-07-15T21:58:21.859105Z",
     "shell.execute_reply": "2023-07-15T21:58:21.857635Z"
    },
    "papermill": {
     "duration": 0.04551,
     "end_time": "2023-07-15T21:58:21.861970",
     "exception": false,
     "start_time": "2023-07-15T21:58:21.816460",
     "status": "completed"
    },
    "tags": []
   },
   "outputs": [],
   "source": [
    "df = pd.read_csv('ObesityClassification.csv')"
   ]
  },
  {
   "cell_type": "markdown",
   "id": "853f2e8e",
   "metadata": {
    "papermill": {
     "duration": 0.007657,
     "end_time": "2023-07-15T21:58:21.878490",
     "exception": false,
     "start_time": "2023-07-15T21:58:21.870833",
     "status": "completed"
    },
    "tags": []
   },
   "source": [
    "##### Overview"
   ]
  },
  {
   "cell_type": "code",
   "execution_count": 3,
   "id": "9038f1c2",
   "metadata": {
    "execution": {
     "iopub.execute_input": "2023-07-15T21:58:21.897722Z",
     "iopub.status.busy": "2023-07-15T21:58:21.897122Z",
     "iopub.status.idle": "2023-07-15T21:58:21.927965Z",
     "shell.execute_reply": "2023-07-15T21:58:21.926949Z"
    },
    "papermill": {
     "duration": 0.0441,
     "end_time": "2023-07-15T21:58:21.930596",
     "exception": false,
     "start_time": "2023-07-15T21:58:21.886496",
     "status": "completed"
    },
    "tags": []
   },
   "outputs": [
    {
     "data": {
      "text/html": [
       "<div>\n",
       "<style scoped>\n",
       "    .dataframe tbody tr th:only-of-type {\n",
       "        vertical-align: middle;\n",
       "    }\n",
       "\n",
       "    .dataframe tbody tr th {\n",
       "        vertical-align: top;\n",
       "    }\n",
       "\n",
       "    .dataframe thead th {\n",
       "        text-align: right;\n",
       "    }\n",
       "</style>\n",
       "<table border=\"1\" class=\"dataframe\">\n",
       "  <thead>\n",
       "    <tr style=\"text-align: right;\">\n",
       "      <th></th>\n",
       "      <th>ID</th>\n",
       "      <th>Age</th>\n",
       "      <th>Gender</th>\n",
       "      <th>Height</th>\n",
       "      <th>Weight</th>\n",
       "      <th>BMI</th>\n",
       "      <th>Label</th>\n",
       "    </tr>\n",
       "  </thead>\n",
       "  <tbody>\n",
       "    <tr>\n",
       "      <th>0</th>\n",
       "      <td>1</td>\n",
       "      <td>25</td>\n",
       "      <td>Male</td>\n",
       "      <td>175</td>\n",
       "      <td>80</td>\n",
       "      <td>25.3</td>\n",
       "      <td>Normal Weight</td>\n",
       "    </tr>\n",
       "    <tr>\n",
       "      <th>1</th>\n",
       "      <td>2</td>\n",
       "      <td>30</td>\n",
       "      <td>Female</td>\n",
       "      <td>160</td>\n",
       "      <td>60</td>\n",
       "      <td>22.5</td>\n",
       "      <td>Normal Weight</td>\n",
       "    </tr>\n",
       "    <tr>\n",
       "      <th>2</th>\n",
       "      <td>3</td>\n",
       "      <td>35</td>\n",
       "      <td>Male</td>\n",
       "      <td>180</td>\n",
       "      <td>90</td>\n",
       "      <td>27.3</td>\n",
       "      <td>Overweight</td>\n",
       "    </tr>\n",
       "    <tr>\n",
       "      <th>3</th>\n",
       "      <td>4</td>\n",
       "      <td>40</td>\n",
       "      <td>Female</td>\n",
       "      <td>150</td>\n",
       "      <td>50</td>\n",
       "      <td>20.0</td>\n",
       "      <td>Underweight</td>\n",
       "    </tr>\n",
       "    <tr>\n",
       "      <th>4</th>\n",
       "      <td>5</td>\n",
       "      <td>45</td>\n",
       "      <td>Male</td>\n",
       "      <td>190</td>\n",
       "      <td>100</td>\n",
       "      <td>31.2</td>\n",
       "      <td>Obese</td>\n",
       "    </tr>\n",
       "  </tbody>\n",
       "</table>\n",
       "</div>"
      ],
      "text/plain": [
       "   ID  Age  Gender  Height  Weight   BMI          Label\n",
       "0   1   25    Male     175      80  25.3  Normal Weight\n",
       "1   2   30  Female     160      60  22.5  Normal Weight\n",
       "2   3   35    Male     180      90  27.3     Overweight\n",
       "3   4   40  Female     150      50  20.0    Underweight\n",
       "4   5   45    Male     190     100  31.2          Obese"
      ]
     },
     "execution_count": 3,
     "metadata": {},
     "output_type": "execute_result"
    }
   ],
   "source": [
    "df.head()"
   ]
  },
  {
   "cell_type": "code",
   "execution_count": 4,
   "id": "d6adb386",
   "metadata": {
    "execution": {
     "iopub.execute_input": "2023-07-15T21:58:21.949131Z",
     "iopub.status.busy": "2023-07-15T21:58:21.948527Z",
     "iopub.status.idle": "2023-07-15T21:58:21.977317Z",
     "shell.execute_reply": "2023-07-15T21:58:21.976478Z"
    },
    "papermill": {
     "duration": 0.040467,
     "end_time": "2023-07-15T21:58:21.979493",
     "exception": false,
     "start_time": "2023-07-15T21:58:21.939026",
     "status": "completed"
    },
    "tags": []
   },
   "outputs": [
    {
     "name": "stdout",
     "output_type": "stream",
     "text": [
      "<class 'pandas.core.frame.DataFrame'>\n",
      "RangeIndex: 108 entries, 0 to 107\n",
      "Data columns (total 7 columns):\n",
      " #   Column  Non-Null Count  Dtype  \n",
      "---  ------  --------------  -----  \n",
      " 0   ID      108 non-null    int64  \n",
      " 1   Age     108 non-null    int64  \n",
      " 2   Gender  108 non-null    object \n",
      " 3   Height  108 non-null    int64  \n",
      " 4   Weight  108 non-null    int64  \n",
      " 5   BMI     108 non-null    float64\n",
      " 6   Label   108 non-null    object \n",
      "dtypes: float64(1), int64(4), object(2)\n",
      "memory usage: 6.0+ KB\n"
     ]
    }
   ],
   "source": [
    "df.info()"
   ]
  },
  {
   "cell_type": "code",
   "execution_count": 5,
   "id": "ee5e0b63",
   "metadata": {
    "execution": {
     "iopub.execute_input": "2023-07-15T21:58:21.998111Z",
     "iopub.status.busy": "2023-07-15T21:58:21.997523Z",
     "iopub.status.idle": "2023-07-15T21:58:22.035644Z",
     "shell.execute_reply": "2023-07-15T21:58:22.034564Z"
    },
    "papermill": {
     "duration": 0.050023,
     "end_time": "2023-07-15T21:58:22.037874",
     "exception": false,
     "start_time": "2023-07-15T21:58:21.987851",
     "status": "completed"
    },
    "tags": []
   },
   "outputs": [
    {
     "data": {
      "text/html": [
       "<div>\n",
       "<style scoped>\n",
       "    .dataframe tbody tr th:only-of-type {\n",
       "        vertical-align: middle;\n",
       "    }\n",
       "\n",
       "    .dataframe tbody tr th {\n",
       "        vertical-align: top;\n",
       "    }\n",
       "\n",
       "    .dataframe thead th {\n",
       "        text-align: right;\n",
       "    }\n",
       "</style>\n",
       "<table border=\"1\" class=\"dataframe\">\n",
       "  <thead>\n",
       "    <tr style=\"text-align: right;\">\n",
       "      <th></th>\n",
       "      <th>count</th>\n",
       "      <th>unique</th>\n",
       "      <th>top</th>\n",
       "      <th>freq</th>\n",
       "      <th>mean</th>\n",
       "      <th>std</th>\n",
       "      <th>min</th>\n",
       "      <th>25%</th>\n",
       "      <th>50%</th>\n",
       "      <th>75%</th>\n",
       "      <th>max</th>\n",
       "    </tr>\n",
       "  </thead>\n",
       "  <tbody>\n",
       "    <tr>\n",
       "      <th>ID</th>\n",
       "      <td>108</td>\n",
       "      <td>NaN</td>\n",
       "      <td>NaN</td>\n",
       "      <td>NaN</td>\n",
       "      <td>56.0463</td>\n",
       "      <td>31.9179</td>\n",
       "      <td>1</td>\n",
       "      <td>28.75</td>\n",
       "      <td>56.5</td>\n",
       "      <td>83.25</td>\n",
       "      <td>110</td>\n",
       "    </tr>\n",
       "    <tr>\n",
       "      <th>Age</th>\n",
       "      <td>108</td>\n",
       "      <td>NaN</td>\n",
       "      <td>NaN</td>\n",
       "      <td>NaN</td>\n",
       "      <td>46.5556</td>\n",
       "      <td>24.7206</td>\n",
       "      <td>11</td>\n",
       "      <td>27</td>\n",
       "      <td>42.5</td>\n",
       "      <td>59.25</td>\n",
       "      <td>112</td>\n",
       "    </tr>\n",
       "    <tr>\n",
       "      <th>Gender</th>\n",
       "      <td>108</td>\n",
       "      <td>2</td>\n",
       "      <td>Male</td>\n",
       "      <td>56</td>\n",
       "      <td>NaN</td>\n",
       "      <td>NaN</td>\n",
       "      <td>NaN</td>\n",
       "      <td>NaN</td>\n",
       "      <td>NaN</td>\n",
       "      <td>NaN</td>\n",
       "      <td>NaN</td>\n",
       "    </tr>\n",
       "    <tr>\n",
       "      <th>Height</th>\n",
       "      <td>108</td>\n",
       "      <td>NaN</td>\n",
       "      <td>NaN</td>\n",
       "      <td>NaN</td>\n",
       "      <td>166.574</td>\n",
       "      <td>27.8736</td>\n",
       "      <td>120</td>\n",
       "      <td>140</td>\n",
       "      <td>175</td>\n",
       "      <td>190</td>\n",
       "      <td>210</td>\n",
       "    </tr>\n",
       "    <tr>\n",
       "      <th>Weight</th>\n",
       "      <td>108</td>\n",
       "      <td>NaN</td>\n",
       "      <td>NaN</td>\n",
       "      <td>NaN</td>\n",
       "      <td>59.4907</td>\n",
       "      <td>28.8562</td>\n",
       "      <td>10</td>\n",
       "      <td>35</td>\n",
       "      <td>55</td>\n",
       "      <td>85</td>\n",
       "      <td>120</td>\n",
       "    </tr>\n",
       "    <tr>\n",
       "      <th>BMI</th>\n",
       "      <td>108</td>\n",
       "      <td>NaN</td>\n",
       "      <td>NaN</td>\n",
       "      <td>NaN</td>\n",
       "      <td>20.5491</td>\n",
       "      <td>7.58382</td>\n",
       "      <td>3.9</td>\n",
       "      <td>16.7</td>\n",
       "      <td>21.2</td>\n",
       "      <td>26.1</td>\n",
       "      <td>37.2</td>\n",
       "    </tr>\n",
       "    <tr>\n",
       "      <th>Label</th>\n",
       "      <td>108</td>\n",
       "      <td>4</td>\n",
       "      <td>Underweight</td>\n",
       "      <td>47</td>\n",
       "      <td>NaN</td>\n",
       "      <td>NaN</td>\n",
       "      <td>NaN</td>\n",
       "      <td>NaN</td>\n",
       "      <td>NaN</td>\n",
       "      <td>NaN</td>\n",
       "      <td>NaN</td>\n",
       "    </tr>\n",
       "  </tbody>\n",
       "</table>\n",
       "</div>"
      ],
      "text/plain": [
       "       count unique          top freq     mean      std  min    25%   50%  \\\n",
       "ID       108    NaN          NaN  NaN  56.0463  31.9179    1  28.75  56.5   \n",
       "Age      108    NaN          NaN  NaN  46.5556  24.7206   11     27  42.5   \n",
       "Gender   108      2         Male   56      NaN      NaN  NaN    NaN   NaN   \n",
       "Height   108    NaN          NaN  NaN  166.574  27.8736  120    140   175   \n",
       "Weight   108    NaN          NaN  NaN  59.4907  28.8562   10     35    55   \n",
       "BMI      108    NaN          NaN  NaN  20.5491  7.58382  3.9   16.7  21.2   \n",
       "Label    108      4  Underweight   47      NaN      NaN  NaN    NaN   NaN   \n",
       "\n",
       "          75%   max  \n",
       "ID      83.25   110  \n",
       "Age     59.25   112  \n",
       "Gender    NaN   NaN  \n",
       "Height    190   210  \n",
       "Weight     85   120  \n",
       "BMI      26.1  37.2  \n",
       "Label     NaN   NaN  "
      ]
     },
     "execution_count": 5,
     "metadata": {},
     "output_type": "execute_result"
    }
   ],
   "source": [
    "df.describe(include='all').T"
   ]
  },
  {
   "cell_type": "markdown",
   "id": "ab5f481c",
   "metadata": {
    "papermill": {
     "duration": 0.008308,
     "end_time": "2023-07-15T21:58:22.054719",
     "exception": false,
     "start_time": "2023-07-15T21:58:22.046411",
     "status": "completed"
    },
    "tags": []
   },
   "source": [
    "### Data cleaning"
   ]
  },
  {
   "cell_type": "code",
   "execution_count": 6,
   "id": "befcec36",
   "metadata": {
    "execution": {
     "iopub.execute_input": "2023-07-15T21:58:22.073611Z",
     "iopub.status.busy": "2023-07-15T21:58:22.073028Z",
     "iopub.status.idle": "2023-07-15T21:58:22.081346Z",
     "shell.execute_reply": "2023-07-15T21:58:22.080238Z"
    },
    "papermill": {
     "duration": 0.020274,
     "end_time": "2023-07-15T21:58:22.083433",
     "exception": false,
     "start_time": "2023-07-15T21:58:22.063159",
     "status": "completed"
    },
    "tags": []
   },
   "outputs": [
    {
     "data": {
      "text/plain": [
       "ID        0\n",
       "Age       0\n",
       "Gender    0\n",
       "Height    0\n",
       "Weight    0\n",
       "BMI       0\n",
       "Label     0\n",
       "dtype: int64"
      ]
     },
     "execution_count": 6,
     "metadata": {},
     "output_type": "execute_result"
    }
   ],
   "source": [
    "# checking for null values\n",
    "df.isna().sum()"
   ]
  },
  {
   "cell_type": "code",
   "execution_count": 7,
   "id": "99615a56",
   "metadata": {
    "execution": {
     "iopub.execute_input": "2023-07-15T21:58:22.119905Z",
     "iopub.status.busy": "2023-07-15T21:58:22.118690Z",
     "iopub.status.idle": "2023-07-15T21:58:22.125364Z",
     "shell.execute_reply": "2023-07-15T21:58:22.124327Z"
    },
    "papermill": {
     "duration": 0.018825,
     "end_time": "2023-07-15T21:58:22.127639",
     "exception": false,
     "start_time": "2023-07-15T21:58:22.108814",
     "status": "completed"
    },
    "tags": []
   },
   "outputs": [],
   "source": [
    "# dropping the ID column\n",
    "df.drop('ID',axis=1,inplace=True)"
   ]
  },
  {
   "cell_type": "code",
   "execution_count": 8,
   "id": "5d962621",
   "metadata": {
    "execution": {
     "iopub.execute_input": "2023-07-15T21:58:22.147379Z",
     "iopub.status.busy": "2023-07-15T21:58:22.146788Z",
     "iopub.status.idle": "2023-07-15T21:58:22.159183Z",
     "shell.execute_reply": "2023-07-15T21:58:22.158050Z"
    },
    "papermill": {
     "duration": 0.024831,
     "end_time": "2023-07-15T21:58:22.161354",
     "exception": false,
     "start_time": "2023-07-15T21:58:22.136523",
     "status": "completed"
    },
    "tags": []
   },
   "outputs": [
    {
     "data": {
      "text/html": [
       "<div>\n",
       "<style scoped>\n",
       "    .dataframe tbody tr th:only-of-type {\n",
       "        vertical-align: middle;\n",
       "    }\n",
       "\n",
       "    .dataframe tbody tr th {\n",
       "        vertical-align: top;\n",
       "    }\n",
       "\n",
       "    .dataframe thead th {\n",
       "        text-align: right;\n",
       "    }\n",
       "</style>\n",
       "<table border=\"1\" class=\"dataframe\">\n",
       "  <thead>\n",
       "    <tr style=\"text-align: right;\">\n",
       "      <th></th>\n",
       "      <th>Age</th>\n",
       "      <th>Gender</th>\n",
       "      <th>Height</th>\n",
       "      <th>Weight</th>\n",
       "      <th>BMI</th>\n",
       "      <th>Label</th>\n",
       "    </tr>\n",
       "  </thead>\n",
       "  <tbody>\n",
       "    <tr>\n",
       "      <th>0</th>\n",
       "      <td>25</td>\n",
       "      <td>Male</td>\n",
       "      <td>175</td>\n",
       "      <td>80</td>\n",
       "      <td>25.3</td>\n",
       "      <td>Normal Weight</td>\n",
       "    </tr>\n",
       "    <tr>\n",
       "      <th>1</th>\n",
       "      <td>30</td>\n",
       "      <td>Female</td>\n",
       "      <td>160</td>\n",
       "      <td>60</td>\n",
       "      <td>22.5</td>\n",
       "      <td>Normal Weight</td>\n",
       "    </tr>\n",
       "    <tr>\n",
       "      <th>2</th>\n",
       "      <td>35</td>\n",
       "      <td>Male</td>\n",
       "      <td>180</td>\n",
       "      <td>90</td>\n",
       "      <td>27.3</td>\n",
       "      <td>Overweight</td>\n",
       "    </tr>\n",
       "    <tr>\n",
       "      <th>3</th>\n",
       "      <td>40</td>\n",
       "      <td>Female</td>\n",
       "      <td>150</td>\n",
       "      <td>50</td>\n",
       "      <td>20.0</td>\n",
       "      <td>Underweight</td>\n",
       "    </tr>\n",
       "    <tr>\n",
       "      <th>4</th>\n",
       "      <td>45</td>\n",
       "      <td>Male</td>\n",
       "      <td>190</td>\n",
       "      <td>100</td>\n",
       "      <td>31.2</td>\n",
       "      <td>Obese</td>\n",
       "    </tr>\n",
       "  </tbody>\n",
       "</table>\n",
       "</div>"
      ],
      "text/plain": [
       "   Age  Gender  Height  Weight   BMI          Label\n",
       "0   25    Male     175      80  25.3  Normal Weight\n",
       "1   30  Female     160      60  22.5  Normal Weight\n",
       "2   35    Male     180      90  27.3     Overweight\n",
       "3   40  Female     150      50  20.0    Underweight\n",
       "4   45    Male     190     100  31.2          Obese"
      ]
     },
     "execution_count": 8,
     "metadata": {},
     "output_type": "execute_result"
    }
   ],
   "source": [
    "df.head()"
   ]
  },
  {
   "cell_type": "markdown",
   "id": "af749855",
   "metadata": {
    "papermill": {
     "duration": 0.011045,
     "end_time": "2023-07-15T21:58:22.182113",
     "exception": false,
     "start_time": "2023-07-15T21:58:22.171068",
     "status": "completed"
    },
    "tags": []
   },
   "source": [
    "### Visualizations"
   ]
  },
  {
   "cell_type": "code",
   "execution_count": 9,
   "id": "14d52c7f",
   "metadata": {
    "execution": {
     "iopub.execute_input": "2023-07-15T21:58:22.201875Z",
     "iopub.status.busy": "2023-07-15T21:58:22.201474Z",
     "iopub.status.idle": "2023-07-15T21:58:22.500182Z",
     "shell.execute_reply": "2023-07-15T21:58:22.499033Z"
    },
    "papermill": {
     "duration": 0.311095,
     "end_time": "2023-07-15T21:58:22.502414",
     "exception": false,
     "start_time": "2023-07-15T21:58:22.191319",
     "status": "completed"
    },
    "tags": []
   },
   "outputs": [
    {
     "data": {
      "image/png": "[encoded data removed]",
      "text/plain": [
       "<Figure size 800x600 with 1 Axes>"
      ]
     },
     "metadata": {
      "needs_background": "light"
     },
     "output_type": "display_data"
    }
   ],
   "source": [
    "plt.figure(figsize=(8,6),dpi=100)\n",
    "sns.countplot(data=df,x='Label',palette='deep')\n",
    "plt.title('Labels and their total count');"
   ]
  },
  {
   "cell_type": "code",
   "execution_count": 10,
   "id": "6972ef56",
   "metadata": {
    "execution": {
     "iopub.execute_input": "2023-07-15T21:58:22.540427Z",
     "iopub.status.busy": "2023-07-15T21:58:22.540031Z",
     "iopub.status.idle": "2023-07-15T21:58:23.135973Z",
     "shell.execute_reply": "2023-07-15T21:58:23.134771Z"
    },
    "papermill": {
     "duration": 0.608824,
     "end_time": "2023-07-15T21:58:23.138433",
     "exception": false,
     "start_time": "2023-07-15T21:58:22.529609",
     "status": "completed"
    },
    "tags": []
   },
   "outputs": [
    {
     "data": {
      "image/png": "[encoded data removed]",
      "text/plain": [
       "<Figure size 1000x600 with 1 Axes>"
      ]
     },
     "metadata": {
      "needs_background": "light"
     },
     "output_type": "display_data"
    }
   ],
   "source": [
    "plt.figure(figsize=(10,6),dpi=100)\n",
    "sns.histplot(data=df,x='Age',kde=True,hue='Label',multiple='stack',palette='deep')\n",
    "plt.title('Distribution of Age with weight labels');"
   ]
  },
  {
   "cell_type": "markdown",
   "id": "97256408",
   "metadata": {
    "papermill": {
     "duration": 0.013913,
     "end_time": "2023-07-15T21:58:24.961652",
     "exception": false,
     "start_time": "2023-07-15T21:58:24.947739",
     "status": "completed"
    },
    "tags": []
   },
   "source": [
    "## Splitting of Features & Label"
   ]
  },
  {
   "cell_type": "code",
   "execution_count": 11,
   "id": "7b6dcd70",
   "metadata": {
    "execution": {
     "iopub.execute_input": "2023-07-15T21:58:25.017518Z",
     "iopub.status.busy": "2023-07-15T21:58:25.016556Z",
     "iopub.status.idle": "2023-07-15T21:58:25.024179Z",
     "shell.execute_reply": "2023-07-15T21:58:25.023365Z"
    },
    "papermill": {
     "duration": 0.024874,
     "end_time": "2023-07-15T21:58:25.026377",
     "exception": false,
     "start_time": "2023-07-15T21:58:25.001503",
     "status": "completed"
    },
    "tags": []
   },
   "outputs": [],
   "source": [
    "# creating X,y\n",
    "X = pd.get_dummies(df.drop(['Label'],axis=1),drop_first=True)\n",
    "y = df['Label']"
   ]
  },
  {
   "cell_type": "markdown",
   "id": "338927b3",
   "metadata": {},
   "source": [
    "## Split Train & Test"
   ]
  },
  {
   "cell_type": "code",
   "execution_count": 12,
   "id": "64066088",
   "metadata": {
    "execution": {
     "iopub.execute_input": "2023-07-15T21:58:25.055097Z",
     "iopub.status.busy": "2023-07-15T21:58:25.054412Z",
     "iopub.status.idle": "2023-07-15T21:58:25.061975Z",
     "shell.execute_reply": "2023-07-15T21:58:25.060850Z"
    },
    "papermill": {
     "duration": 0.024509,
     "end_time": "2023-07-15T21:58:25.064256",
     "exception": false,
     "start_time": "2023-07-15T21:58:25.039747",
     "status": "completed"
    },
    "tags": []
   },
   "outputs": [],
   "source": [
    "# Choosing 15%  as test size \n",
    "X_train, X_test, y_train, y_test = train_test_split(X, y, test_size=0.15, random_state=42)"
   ]
  },
  {
   "cell_type": "markdown",
   "id": "e60b0162",
   "metadata": {},
   "source": [
    "### Standard Scaler"
   ]
  },
  {
   "cell_type": "code",
   "execution_count": 13,
   "id": "01e0e1ea",
   "metadata": {
    "execution": {
     "iopub.execute_input": "2023-07-15T21:58:25.093268Z",
     "iopub.status.busy": "2023-07-15T21:58:25.092860Z",
     "iopub.status.idle": "2023-07-15T21:58:25.097231Z",
     "shell.execute_reply": "2023-07-15T21:58:25.096209Z"
    },
    "papermill": {
     "duration": 0.022172,
     "end_time": "2023-07-15T21:58:25.099677",
     "exception": false,
     "start_time": "2023-07-15T21:58:25.077505",
     "status": "completed"
    },
    "tags": []
   },
   "outputs": [],
   "source": [
    "# instantiating standard scaler\n",
    "scale = StandardScaler()"
   ]
  },
  {
   "cell_type": "code",
   "execution_count": 14,
   "id": "35789c2d",
   "metadata": {
    "execution": {
     "iopub.execute_input": "2023-07-15T21:58:25.128074Z",
     "iopub.status.busy": "2023-07-15T21:58:25.127452Z",
     "iopub.status.idle": "2023-07-15T21:58:25.137391Z",
     "shell.execute_reply": "2023-07-15T21:58:25.136515Z"
    },
    "papermill": {
     "duration": 0.026695,
     "end_time": "2023-07-15T21:58:25.139618",
     "exception": false,
     "start_time": "2023-07-15T21:58:25.112923",
     "status": "completed"
    },
    "tags": []
   },
   "outputs": [],
   "source": [
    "X_train_scaled = scale.fit_transform(X_train)\n",
    "X_test_scaled = scale.transform(X_test)"
   ]
  },
  {
   "cell_type": "markdown",
   "id": "7d1efa77",
   "metadata": {},
   "source": [
    "### SMOTE"
   ]
  },
  {
   "cell_type": "code",
   "execution_count": 15,
   "id": "d7f7ca3d",
   "metadata": {},
   "outputs": [],
   "source": [
    "from imblearn.over_sampling import SMOTE\n",
    "\n",
    "# Instantiate SMOTE\n",
    "sm = SMOTE(random_state=42)\n",
    "\n",
    "# Fit SMOTE to training data\n",
    "X_train_res, y_train_res = sm.fit_resample(X_train, y_train)"
   ]
  },
  {
   "cell_type": "markdown",
   "id": "c3b8a87a",
   "metadata": {},
   "source": [
    "## Model building"
   ]
  },
  {
   "cell_type": "markdown",
   "id": "99f5f97b",
   "metadata": {},
   "source": [
    "## Logistic Regression"
   ]
  },
  {
   "cell_type": "code",
   "execution_count": 16,
   "id": "84100355",
   "metadata": {},
   "outputs": [
    {
     "name": "stderr",
     "output_type": "stream",
     "text": [
      "C:\\Users\\intel 3\\SoftwareFol\\envs\\tsftsf\\lib\\site-packages\\sklearn\\linear_model\\_logistic.py:765: ConvergenceWarning: lbfgs failed to converge (status=1):\n",
      "STOP: TOTAL NO. of ITERATIONS REACHED LIMIT.\n",
      "\n",
      "Increase the number of iterations (max_iter) or scale the data as shown in:\n",
      "    https://scikit-learn.org/stable/modules/preprocessing.html\n",
      "Please also refer to the documentation for alternative solver options:\n",
      "    https://scikit-learn.org/stable/modules/linear_model.html#logistic-regression\n",
      "  extra_warning_msg=_LOGISTIC_SOLVER_CONVERGENCE_MSG)\n",
      "C:\\Users\\intel 3\\SoftwareFol\\envs\\tsftsf\\lib\\site-packages\\sklearn\\linear_model\\_logistic.py:765: ConvergenceWarning: lbfgs failed to converge (status=1):\n",
      "STOP: TOTAL NO. of ITERATIONS REACHED LIMIT.\n",
      "\n",
      "Increase the number of iterations (max_iter) or scale the data as shown in:\n",
      "    https://scikit-learn.org/stable/modules/preprocessing.html\n",
      "Please also refer to the documentation for alternative solver options:\n",
      "    https://scikit-learn.org/stable/modules/linear_model.html#logistic-regression\n",
      "  extra_warning_msg=_LOGISTIC_SOLVER_CONVERGENCE_MSG)\n",
      "C:\\Users\\intel 3\\SoftwareFol\\envs\\tsftsf\\lib\\site-packages\\sklearn\\linear_model\\_logistic.py:765: ConvergenceWarning: lbfgs failed to converge (status=1):\n",
      "STOP: TOTAL NO. of ITERATIONS REACHED LIMIT.\n",
      "\n",
      "Increase the number of iterations (max_iter) or scale the data as shown in:\n",
      "    https://scikit-learn.org/stable/modules/preprocessing.html\n",
      "Please also refer to the documentation for alternative solver options:\n",
      "    https://scikit-learn.org/stable/modules/linear_model.html#logistic-regression\n",
      "  extra_warning_msg=_LOGISTIC_SOLVER_CONVERGENCE_MSG)\n",
      "C:\\Users\\intel 3\\SoftwareFol\\envs\\tsftsf\\lib\\site-packages\\sklearn\\linear_model\\_logistic.py:765: ConvergenceWarning: lbfgs failed to converge (status=1):\n",
      "STOP: TOTAL NO. of ITERATIONS REACHED LIMIT.\n",
      "\n",
      "Increase the number of iterations (max_iter) or scale the data as shown in:\n",
      "    https://scikit-learn.org/stable/modules/preprocessing.html\n",
      "Please also refer to the documentation for alternative solver options:\n",
      "    https://scikit-learn.org/stable/modules/linear_model.html#logistic-regression\n",
      "  extra_warning_msg=_LOGISTIC_SOLVER_CONVERGENCE_MSG)\n",
      "C:\\Users\\intel 3\\SoftwareFol\\envs\\tsftsf\\lib\\site-packages\\sklearn\\linear_model\\_logistic.py:765: ConvergenceWarning: lbfgs failed to converge (status=1):\n",
      "STOP: TOTAL NO. of ITERATIONS REACHED LIMIT.\n",
      "\n",
      "Increase the number of iterations (max_iter) or scale the data as shown in:\n",
      "    https://scikit-learn.org/stable/modules/preprocessing.html\n",
      "Please also refer to the documentation for alternative solver options:\n",
      "    https://scikit-learn.org/stable/modules/linear_model.html#logistic-regression\n",
      "  extra_warning_msg=_LOGISTIC_SOLVER_CONVERGENCE_MSG)\n",
      "C:\\Users\\intel 3\\SoftwareFol\\envs\\tsftsf\\lib\\site-packages\\sklearn\\linear_model\\_logistic.py:765: ConvergenceWarning: lbfgs failed to converge (status=1):\n",
      "STOP: TOTAL NO. of ITERATIONS REACHED LIMIT.\n",
      "\n",
      "Increase the number of iterations (max_iter) or scale the data as shown in:\n",
      "    https://scikit-learn.org/stable/modules/preprocessing.html\n",
      "Please also refer to the documentation for alternative solver options:\n",
      "    https://scikit-learn.org/stable/modules/linear_model.html#logistic-regression\n",
      "  extra_warning_msg=_LOGISTIC_SOLVER_CONVERGENCE_MSG)\n"
     ]
    },
    {
     "data": {
      "text/plain": [
       "StackingClassifier(estimators=[('dt', DecisionTreeClassifier()),\n",
       "                               ('lr', LogisticRegression())],\n",
       "                   final_estimator=LogisticRegression())"
      ]
     },
     "execution_count": 16,
     "metadata": {},
     "output_type": "execute_result"
    }
   ],
   "source": [
    "from sklearn.linear_model import LogisticRegression\n",
    "from sklearn.ensemble import StackingClassifier\n",
    "from sklearn.tree import DecisionTreeClassifier\n",
    "\n",
    "estimators = [('dt', DecisionTreeClassifier()),('lr', LogisticRegression())]\n",
    "\n",
    "lr = StackingClassifier(\n",
    "    estimators=estimators,\n",
    "    final_estimator=LogisticRegression())\n",
    "\n",
    "lr.fit(X_train_res, y_train_res)"
   ]
  },
  {
   "cell_type": "code",
   "execution_count": 17,
   "id": "41506134",
   "metadata": {},
   "outputs": [
    {
     "name": "stdout",
     "output_type": "stream",
     "text": [
      "1.0\n"
     ]
    }
   ],
   "source": [
    "print(lr.score(X_train_res, y_train_res))"
   ]
  },
  {
   "cell_type": "code",
   "execution_count": 18,
   "id": "16371030",
   "metadata": {},
   "outputs": [],
   "source": [
    "y_pred_lr = lr.predict(X_test)"
   ]
  },
  {
   "cell_type": "code",
   "execution_count": 19,
   "id": "f25f8a16",
   "metadata": {},
   "outputs": [
    {
     "name": "stdout",
     "output_type": "stream",
     "text": [
      "               precision    recall  f1-score   support\n",
      "\n",
      "Normal Weight       1.00      1.00      1.00         5\n",
      "        Obese       1.00      1.00      1.00         3\n",
      "   Overweight       1.00      1.00      1.00         2\n",
      "  Underweight       1.00      1.00      1.00         7\n",
      "\n",
      "     accuracy                           1.00        17\n",
      "    macro avg       1.00      1.00      1.00        17\n",
      " weighted avg       1.00      1.00      1.00        17\n",
      "\n"
     ]
    }
   ],
   "source": [
    "print(classification_report(y_test,y_pred_lr))"
   ]
  },
  {
   "cell_type": "code",
   "execution_count": 20,
   "id": "3cf46b3e",
   "metadata": {},
   "outputs": [
    {
     "name": "stdout",
     "output_type": "stream",
     "text": [
      "1.0\n"
     ]
    }
   ],
   "source": [
    "print(lr.score(X_test,y_test))"
   ]
  },
  {
   "cell_type": "markdown",
   "id": "32325bc3",
   "metadata": {},
   "source": [
    "### BackupLearning"
   ]
  },
  {
   "cell_type": "code",
   "execution_count": 21,
   "id": "717c71e0",
   "metadata": {},
   "outputs": [
    {
     "data": {
      "text/plain": [
       "StackingClassifier(estimators=[('dt', DecisionTreeClassifier()),\n",
       "                               ('lr', LogisticRegression())],\n",
       "                   final_estimator=LogisticRegression())"
      ]
     },
     "execution_count": 21,
     "metadata": {},
     "output_type": "execute_result"
    }
   ],
   "source": [
    "import pickle\n",
    "pickle.dump(lr, open(\"LRoc.pkl\", \"wb\"))\n",
    "pickle.load(open(\"LRoc.pkl\", \"rb\"))"
   ]
  }
 ],
 "metadata": {
  "kernelspec": {
   "display_name": "Python 3",
   "language": "python",
   "name": "python3"
  },
  "language_info": {
   "codemirror_mode": {
    "name": "ipython",
    "version": 3
   },
   "file_extension": ".py",
   "mimetype": "text/x-python",
   "name": "python",
   "nbconvert_exporter": "python",
   "pygments_lexer": "ipython3",
   "version": "3.6.13"
  },
  "papermill": {
   "default_parameters": {},
   "duration": 18.809247,
   "end_time": "2023-07-15T21:58:26.755916",
   "environment_variables": {},
   "exception": null,
   "input_path": "__notebook__.ipynb",
   "output_path": "__notebook__.ipynb",
   "parameters": {},
   "start_time": "2023-07-15T21:58:07.946669",
   "version": "2.4.0"
  }
 },
 "nbformat": 4,
 "nbformat_minor": 5
}
